{
 "cells": [
  {
   "cell_type": "code",
   "execution_count": 176,
   "metadata": {},
   "outputs": [],
   "source": [
    "from collections import OrderedDict\n",
    "from nltk.tokenize import word_tokenize\n",
    "import numpy as np\n",
    "from math import log2\n",
    "from nltk import FreqDist\n",
    "from numpy.linalg import svd\n",
    "import matplotlib.pyplot as plt"
   ]
  },
  {
   "cell_type": "code",
   "execution_count": 158,
   "metadata": {},
   "outputs": [
    {
     "name": "stdout",
     "output_type": "stream",
     "text": [
      "Tokenized words\n",
      "\n",
      "[['This', 'is', 'the', 'first', 'document'], ['This', 'document', 'is', 'the', 'second', 'document'], ['And', 'this', 'is', 'the', 'third', 'one'], ['Is', 'this', 'the', 'first', 'document']]\n"
     ]
    }
   ],
   "source": [
    "document = ['This is the first document','This document is the second document','And this is the third one', 'Is this the first document']\n",
    "\n",
    "tokenized_words = [word_tokenize(sent) for sent in document]\n",
    "print(\"Tokenized words\\n\")\n",
    "print(tokenized_words)"
   ]
  },
  {
   "cell_type": "code",
   "execution_count": 159,
   "metadata": {},
   "outputs": [
    {
     "name": "stdout",
     "output_type": "stream",
     "text": [
      "Lower cased words\n",
      "\n",
      "[['this', 'is', 'the', 'first', 'document'], ['this', 'document', 'is', 'the', 'second', 'document'], ['and', 'this', 'is', 'the', 'third', 'one'], ['is', 'this', 'the', 'first', 'document']]\n"
     ]
    }
   ],
   "source": [
    "lowered_words = [[w.lower() for w in word] for word in tokenized_words]\n",
    "print(\"Lower cased words\\n\")\n",
    "print(lowered_words)"
   ]
  },
  {
   "cell_type": "code",
   "execution_count": 160,
   "metadata": {},
   "outputs": [
    {
     "name": "stdout",
     "output_type": "stream",
     "text": [
      "['this', 'is', 'the', 'first', 'document', 'this', 'document', 'is', 'the', 'second', 'document', 'and', 'this', 'is', 'the', 'third', 'one', 'is', 'this', 'the', 'first', 'document']\n"
     ]
    }
   ],
   "source": [
    "tokens = []\n",
    "for i in range(len(lowered_words)):\n",
    "    tokens = tokens + lowered_words[i]\n",
    "vocab = list(sorted(set(tokens)))\n",
    "print(tokens)"
   ]
  },
  {
   "cell_type": "code",
   "execution_count": 161,
   "metadata": {},
   "outputs": [
    {
     "name": "stdout",
     "output_type": "stream",
     "text": [
      "  this is the first document second and third one\n",
      "this 0 4 4 2 4 1 1 1 1\n",
      "is 4 0 4 2 4 1 1 1 1\n",
      "the 4 4 0 2 4 1 1 1 1\n",
      "first 2 2 2 0 2 0 0 0 0\n",
      "document 4 4 4 2 2 2 0 0 0\n",
      "second 1 1 1 0 2 0 0 0 0\n",
      "and 1 1 1 0 0 0 0 1 1\n",
      "third 1 1 1 0 0 0 1 0 1\n",
      "one 1 1 1 0 0 0 1 1 0\n"
     ]
    }
   ],
   "source": [
    "occurrences = OrderedDict((name, OrderedDict((name, 0) for name in tokens)) for name in tokens)\n",
    "\n",
    "for l in lowered_words:\n",
    "    for i in range(len(l)):\n",
    "        for item in l[:i] + l[i + 1:]:\n",
    "            occurrences[l[i]][item] += 1\n",
    "\n",
    "print(' ', ' '.join(occurrences.keys()))\n",
    "co_occurances = []\n",
    "for name, values in occurrences.items():\n",
    "    co_occurances.append(values.values())\n",
    "    #print(name, ' '.join(str(i) for i in values.values()))\n",
    "    print(name,' '.join(str(i) for i in values.values()))"
   ]
  },
  {
   "cell_type": "code",
   "execution_count": 162,
   "metadata": {},
   "outputs": [],
   "source": [
    "co_words = list(occurrences.keys())"
   ]
  },
  {
   "cell_type": "code",
   "execution_count": 163,
   "metadata": {},
   "outputs": [
    {
     "data": {
      "text/plain": [
       "['This is the first document',\n",
       " 'This document is the second document',\n",
       " 'And this is the third one',\n",
       " 'Is this the first document']"
      ]
     },
     "execution_count": 163,
     "metadata": {},
     "output_type": "execute_result"
    }
   ],
   "source": [
    "document"
   ]
  },
  {
   "cell_type": "code",
   "execution_count": 164,
   "metadata": {},
   "outputs": [],
   "source": [
    "a = []\n",
    "for name, values in occurrences.items():\n",
    "    for i in range(9):\n",
    "        a.append(values.popitem(9))"
   ]
  },
  {
   "cell_type": "code",
   "execution_count": 165,
   "metadata": {},
   "outputs": [],
   "source": [
    "b = []\n",
    "for i in range(len(a)):\n",
    "    b.append(a[i][1])"
   ]
  },
  {
   "cell_type": "code",
   "execution_count": 166,
   "metadata": {},
   "outputs": [
    {
     "name": "stdout",
     "output_type": "stream",
     "text": [
      "[[1 1 1 1 4 2 4 4 0]\n",
      " [1 1 1 1 4 2 4 0 4]\n",
      " [1 1 1 1 4 2 0 4 4]\n",
      " [0 0 0 0 2 0 2 2 2]\n",
      " [0 0 0 2 2 2 4 4 4]\n",
      " [0 0 0 0 2 0 1 1 1]\n",
      " [1 1 0 0 0 0 1 1 1]\n",
      " [1 0 1 0 0 0 1 1 1]\n",
      " [0 1 1 0 0 0 1 1 1]]\n"
     ]
    }
   ],
   "source": [
    "b = np.reshape(b,(9,9))\n",
    "print(b)"
   ]
  },
  {
   "cell_type": "code",
   "execution_count": 167,
   "metadata": {},
   "outputs": [],
   "source": [
    "mat = np.zeros((9,9))\n",
    "for i in range(8,-1,-1):\n",
    "    for j in range(8,-1,-1):\n",
    "        mat[i][j] = b[8-i][8-j]"
   ]
  },
  {
   "cell_type": "code",
   "execution_count": 168,
   "metadata": {},
   "outputs": [
    {
     "data": {
      "text/plain": [
       "array([[1., 1., 1., 0., 0., 0., 1., 1., 0.],\n",
       "       [1., 1., 1., 0., 0., 0., 1., 0., 1.],\n",
       "       [1., 1., 1., 0., 0., 0., 0., 1., 1.],\n",
       "       [1., 1., 1., 0., 2., 0., 0., 0., 0.],\n",
       "       [4., 4., 4., 2., 2., 2., 0., 0., 0.],\n",
       "       [2., 2., 2., 0., 2., 0., 0., 0., 0.],\n",
       "       [4., 4., 0., 2., 4., 1., 1., 1., 1.],\n",
       "       [4., 0., 4., 2., 4., 1., 1., 1., 1.],\n",
       "       [0., 4., 4., 2., 4., 1., 1., 1., 1.]])"
      ]
     },
     "execution_count": 168,
     "metadata": {},
     "output_type": "execute_result"
    }
   ],
   "source": [
    "mat"
   ]
  },
  {
   "cell_type": "code",
   "execution_count": 169,
   "metadata": {},
   "outputs": [],
   "source": [
    "freqDist = FreqDist(tokens)"
   ]
  },
  {
   "cell_type": "code",
   "execution_count": 170,
   "metadata": {},
   "outputs": [
    {
     "data": {
      "text/plain": [
       "FreqDist({'document': 4, 'this': 4, 'the': 4, 'is': 4, 'first': 2, 'third': 1, 'and': 1, 'second': 1, 'one': 1})"
      ]
     },
     "execution_count": 170,
     "metadata": {},
     "output_type": "execute_result"
    }
   ],
   "source": [
    "freqDist"
   ]
  },
  {
   "cell_type": "code",
   "execution_count": 171,
   "metadata": {},
   "outputs": [],
   "source": [
    "m,n = np.shape(mat)\n",
    "\n",
    "pmi_mat = np.zeros((m,n))\n",
    "for i in range(m):\n",
    "    for j in range(n):\n",
    "        if mat[i][j] == 0:\n",
    "            pmi_mat[i][j] = 0\n",
    "        else:\n",
    "            w = co_words[i]\n",
    "            c = co_words[j]\n",
    "            #print(freqDist[w]*freqDist[c])\n",
    "            pmi = log2((mat[i][j]*m)/(freqDist[w]*freqDist[c]))\n",
    "            #print(int(mat[i][j]))\n",
    "            if pmi <= 0:\n",
    "                pmi_mat[i][j] = 0\n",
    "            else:\n",
    "                pmi_mat[i][j] = pmi"
   ]
  },
  {
   "cell_type": "code",
   "execution_count": 172,
   "metadata": {},
   "outputs": [
    {
     "data": {
      "text/plain": [
       "array([[0.      , 0.      , 0.      , 0.      , 0.      , 0.      ,\n",
       "        1.169925, 1.169925, 0.      ],\n",
       "       [0.      , 0.      , 0.      , 0.      , 0.      , 0.      ,\n",
       "        1.169925, 0.      , 1.169925],\n",
       "       [0.      , 0.      , 0.      , 0.      , 0.      , 0.      ,\n",
       "        0.      , 1.169925, 1.169925],\n",
       "       [0.169925, 0.169925, 0.169925, 0.      , 1.169925, 0.      ,\n",
       "        0.      , 0.      , 0.      ],\n",
       "       [1.169925, 1.169925, 1.169925, 1.169925, 0.169925, 2.169925,\n",
       "        0.      , 0.      , 0.      ],\n",
       "       [2.169925, 2.169925, 2.169925, 0.      , 2.169925, 0.      ,\n",
       "        0.      , 0.      , 0.      ],\n",
       "       [3.169925, 3.169925, 0.      , 3.169925, 3.169925, 3.169925,\n",
       "        3.169925, 3.169925, 3.169925],\n",
       "       [3.169925, 0.      , 3.169925, 3.169925, 3.169925, 3.169925,\n",
       "        3.169925, 3.169925, 3.169925],\n",
       "       [0.      , 3.169925, 3.169925, 3.169925, 3.169925, 3.169925,\n",
       "        3.169925, 3.169925, 3.169925]])"
      ]
     },
     "execution_count": 172,
     "metadata": {},
     "output_type": "execute_result"
    }
   ],
   "source": [
    "pmi_mat"
   ]
  },
  {
   "cell_type": "code",
   "execution_count": 173,
   "metadata": {},
   "outputs": [
    {
     "name": "stdout",
     "output_type": "stream",
     "text": [
      "[[-8.33217988e-01 -8.23451373e-01 -3.51932372e-16 -9.18241507e-16\n",
      "  -5.10776822e-01 -7.98080016e-01  5.24929799e-01  4.28104856e-01\n",
      "  -9.20592350e-02]\n",
      " [-8.33217988e-01 -8.23451373e-01  0.00000000e+00  3.21925857e-16\n",
      "  -5.10776822e-01 -5.55625328e-02 -9.53622468e-01  4.28104856e-01\n",
      "  -9.20592350e-02]\n",
      " [-8.33217988e-01 -8.23451373e-01  2.19957733e-16  2.38272510e-16\n",
      "  -5.10776822e-01  8.53642549e-01  4.28692669e-01  4.28104856e-01\n",
      "  -9.20592350e-02]\n",
      " [-5.75871494e-01  5.59169924e-01 -3.62930259e-16  6.71401448e-17\n",
      "  -5.14333823e-01  5.19551069e-16 -6.62833513e-15 -7.06040948e-01\n",
      "  -2.19125406e-01]\n",
      " [-2.21999942e+00  1.23269873e+00  1.31974640e-16 -4.91431914e-16\n",
      "   1.91213334e+00 -3.89663302e-16  3.00365462e-15  3.05523230e-01\n",
      "  -1.21676224e-01]\n",
      " [-2.55365096e+00  3.35190836e+00 -1.75966186e-16  8.78835807e-17\n",
      "  -9.95524336e-01 -1.94831651e-16  2.79258700e-15  2.93889651e-01\n",
      "   2.08639117e-02]\n",
      " [-8.57573524e+00 -3.71585671e-01 -1.29411646e+00 -2.24147546e+00\n",
      "  -5.04360021e-03  3.24719418e-16 -9.09214372e-16 -8.13255101e-02\n",
      "   2.22778296e-02]\n",
      " [-8.57573524e+00 -3.71585671e-01 -1.29411646e+00  2.24147546e+00\n",
      "  -5.04360021e-03 -1.29887767e-16 -6.49438837e-16 -8.13255101e-02\n",
      "   2.22778296e-02]\n",
      " [-8.57573524e+00 -3.71585671e-01  2.58823293e+00 -1.14104773e-14\n",
      "  -5.04360021e-03  4.05899273e-17 -3.89663302e-16 -8.13255101e-02\n",
      "   2.22778296e-02]]\n"
     ]
    }
   ],
   "source": [
    "u,s,v = svd(pmi_mat)\n",
    "word_mat = np.matmul(u,np.diag(s))\n",
    "print(word_mat)"
   ]
  },
  {
   "cell_type": "code",
   "execution_count": 174,
   "metadata": {},
   "outputs": [
    {
     "name": "stdout",
     "output_type": "stream",
     "text": [
      "[[-8.33217988e-01 -8.23451373e-01 -3.51932372e-16 -9.18241507e-16\n",
      "  -5.10776822e-01 -7.98080016e-01  5.24929799e-01  4.28104856e-01\n",
      "  -9.20592350e-02]\n",
      " [-8.33217988e-01 -8.23451373e-01  0.00000000e+00  3.21925857e-16\n",
      "  -5.10776822e-01 -5.55625328e-02 -9.53622468e-01  4.28104856e-01\n",
      "  -9.20592350e-02]\n",
      " [-8.33217988e-01 -8.23451373e-01  2.19957733e-16  2.38272510e-16\n",
      "  -5.10776822e-01  8.53642549e-01  4.28692669e-01  4.28104856e-01\n",
      "  -9.20592350e-02]\n",
      " [-5.75871494e-01  5.59169924e-01 -3.62930259e-16  6.71401448e-17\n",
      "  -5.14333823e-01  5.19551069e-16 -6.62833513e-15 -7.06040948e-01\n",
      "  -2.19125406e-01]\n",
      " [-2.21999942e+00  1.23269873e+00  1.31974640e-16 -4.91431914e-16\n",
      "   1.91213334e+00 -3.89663302e-16  3.00365462e-15  3.05523230e-01\n",
      "  -1.21676224e-01]\n",
      " [-2.55365096e+00  3.35190836e+00 -1.75966186e-16  8.78835807e-17\n",
      "  -9.95524336e-01 -1.94831651e-16  2.79258700e-15  2.93889651e-01\n",
      "   2.08639117e-02]\n",
      " [-8.57573524e+00 -3.71585671e-01 -1.29411646e+00 -2.24147546e+00\n",
      "  -5.04360021e-03  3.24719418e-16 -9.09214372e-16 -8.13255101e-02\n",
      "   2.22778296e-02]\n",
      " [-8.57573524e+00 -3.71585671e-01 -1.29411646e+00  2.24147546e+00\n",
      "  -5.04360021e-03 -1.29887767e-16 -6.49438837e-16 -8.13255101e-02\n",
      "   2.22778296e-02]\n",
      " [-8.57573524e+00 -3.71585671e-01  2.58823293e+00 -1.14104773e-14\n",
      "  -5.04360021e-03  4.05899273e-17 -3.89663302e-16 -8.13255101e-02\n",
      "   2.22778296e-02]]\n"
     ]
    }
   ],
   "source": [
    "s = np.diag(s)\n",
    "word_mat = np.matmul(u,s[:,0:10])\n",
    "print(word_mat)"
   ]
  },
  {
   "cell_type": "code",
   "execution_count": null,
   "metadata": {},
   "outputs": [],
   "source": []
  }
 ],
 "metadata": {
  "kernelspec": {
   "display_name": "Python 3",
   "language": "python",
   "name": "python3"
  },
  "language_info": {
   "codemirror_mode": {
    "name": "ipython",
    "version": 3
   },
   "file_extension": ".py",
   "mimetype": "text/x-python",
   "name": "python",
   "nbconvert_exporter": "python",
   "pygments_lexer": "ipython3",
   "version": "3.5.2"
  }
 },
 "nbformat": 4,
 "nbformat_minor": 2
}
